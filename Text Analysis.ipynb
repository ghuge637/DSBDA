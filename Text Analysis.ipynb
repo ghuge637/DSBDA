{
 "cells": [
  {
   "cell_type": "code",
   "execution_count": 1,
   "id": "8d4fe68b",
   "metadata": {},
   "outputs": [],
   "source": [
    "import pandas as pd"
   ]
  },
  {
   "cell_type": "code",
   "execution_count": 15,
   "id": "27f2ea2f",
   "metadata": {},
   "outputs": [],
   "source": [
    "Sample_Sentences = \"He wandered through the wide, winding forest, listening to the whispering wind and watching the tall trees sway gently as the sunlight filtered through the thick canopy above.\""
   ]
  },
  {
   "cell_type": "code",
   "execution_count": 18,
   "id": "e5ef95d1",
   "metadata": {},
   "outputs": [],
   "source": [
    "#Tokenization"
   ]
  },
  {
   "cell_type": "code",
   "execution_count": 3,
   "id": "e3a108ae",
   "metadata": {},
   "outputs": [
    {
     "name": "stderr",
     "output_type": "stream",
     "text": [
      "[nltk_data] Downloading package averaged_perceptron_tagger to\n",
      "[nltk_data]     C:\\Users\\HP\\AppData\\Roaming\\nltk_data...\n",
      "[nltk_data]   Package averaged_perceptron_tagger is already up-to-\n",
      "[nltk_data]       date!\n"
     ]
    },
    {
     "data": {
      "text/plain": [
       "True"
      ]
     },
     "execution_count": 3,
     "metadata": {},
     "output_type": "execute_result"
    }
   ],
   "source": [
    "import nltk\n",
    "nltk.download('averaged_perceptron_tagger')"
   ]
  },
  {
   "cell_type": "code",
   "execution_count": 16,
   "id": "8354dcdf",
   "metadata": {},
   "outputs": [],
   "source": [
    "from nltk.tokenize import sent_tokenize"
   ]
  },
  {
   "cell_type": "code",
   "execution_count": 17,
   "id": "84bbe0c7",
   "metadata": {},
   "outputs": [],
   "source": [
    "sentences = sent_tokenize(Sample_Sentences)"
   ]
  },
  {
   "cell_type": "code",
   "execution_count": 6,
   "id": "40630432",
   "metadata": {},
   "outputs": [
    {
     "data": {
      "text/plain": [
       "['She swiftly sailed across the sea, savoring the salty sea breeze as the seagulls soared above the serene waters']"
      ]
     },
     "execution_count": 6,
     "metadata": {},
     "output_type": "execute_result"
    }
   ],
   "source": [
    "sentences"
   ]
  },
  {
   "cell_type": "code",
   "execution_count": 18,
   "id": "4c2c0336",
   "metadata": {},
   "outputs": [
    {
     "name": "stdout",
     "output_type": "stream",
     "text": [
      "sentences words:  ['He wandered through the wide, winding forest, listening to the whispering wind and watching the tall trees sway gently as the sunlight filtered through the thick canopy above.']\n",
      "Tokenized words: [['He', 'wandered', 'through', 'the', 'wide', ',', 'winding', 'forest', ',', 'listening', 'to', 'the', 'whispering', 'wind', 'and', 'watching', 'the', 'tall', 'trees', 'sway', 'gently', 'as', 'the', 'sunlight', 'filtered', 'through', 'the', 'thick', 'canopy', 'above', '.']]\n"
     ]
    }
   ],
   "source": [
    "from nltk import word_tokenize, sent_tokenize\n",
    "sentences = sent_tokenize(Sample_Sentences)\n",
    "tokenized_words = [word_tokenize(sentence) for sentence in sentences]\n",
    "print('sentences words: ',sentences )\n",
    "print('Tokenized words:', tokenized_words)"
   ]
  },
  {
   "cell_type": "code",
   "execution_count": 24,
   "id": "c8bde7d7",
   "metadata": {},
   "outputs": [],
   "source": [
    "#POS Tagging"
   ]
  },
  {
   "cell_type": "code",
   "execution_count": 19,
   "id": "aa441917",
   "metadata": {},
   "outputs": [
    {
     "name": "stdout",
     "output_type": "stream",
     "text": [
      "Tagging Parts of Speech: [('He', 'PRP'), ('wandered', 'VBD'), ('through', 'IN'), ('the', 'DT'), ('wide', 'JJ'), (',', ','), ('winding', 'VBG'), ('forest', 'JJS'), (',', ','), ('listening', 'VBG'), ('to', 'TO'), ('the', 'DT'), ('whispering', 'NN'), ('wind', 'NN'), ('and', 'CC'), ('watching', 'VBG'), ('the', 'DT'), ('tall', 'NN'), ('trees', 'VBZ'), ('sway', 'RB'), ('gently', 'RB'), ('as', 'IN'), ('the', 'DT'), ('sunlight', 'NN'), ('filtered', 'VBD'), ('through', 'IN'), ('the', 'DT'), ('thick', 'JJ'), ('canopy', 'NN'), ('above', 'IN'), ('.', '.')]\n"
     ]
    }
   ],
   "source": [
    "from nltk import pos_tag\n",
    "tokenized_words = word_tokenize(Sample_Sentences)\n",
    "pos_tags = pos_tag(tokenized_words)\n",
    "print(\"Tagging Parts of Speech:\", pos_tags)"
   ]
  },
  {
   "cell_type": "code",
   "execution_count": 26,
   "id": "093699a5",
   "metadata": {},
   "outputs": [],
   "source": [
    "#Stop-Words Removal"
   ]
  },
  {
   "cell_type": "code",
   "execution_count": 20,
   "id": "2eb80243",
   "metadata": {},
   "outputs": [
    {
     "name": "stdout",
     "output_type": "stream",
     "text": [
      "Filtered Tokens after Stop Words Removal: ['wandered', 'wide', ',', 'winding', 'forest', ',', 'listening', 'whispering', 'wind', 'watching', 'tall', 'trees', 'sway', 'gently', 'sunlight', 'filtered', 'thick', 'canopy', '.']\n"
     ]
    }
   ],
   "source": [
    "from nltk.corpus import stopwords\n",
    "\n",
    "stop_words = set(stopwords.words('english'))\n",
    "filtered_tokens = [word for word in tokenized_words if word.lower() not in stop_words]\n",
    "print(\"Filtered Tokens after Stop Words Removal:\", filtered_tokens)"
   ]
  },
  {
   "cell_type": "code",
   "execution_count": 21,
   "id": "66256caa",
   "metadata": {},
   "outputs": [
    {
     "name": "stdout",
     "output_type": "stream",
     "text": [
      "['a', 'about', 'above', 'after', 'again', 'against', 'ain', 'all', 'am', 'an', 'and', 'any', 'are', 'aren', \"aren't\", 'as', 'at', 'be', 'because', 'been', 'before', 'being', 'below', 'between', 'both', 'but', 'by', 'can', 'couldn', \"couldn't\", 'd', 'did', 'didn', \"didn't\", 'do', 'does', 'doesn', \"doesn't\", 'doing', 'don', \"don't\", 'down', 'during', 'each', 'few', 'for', 'from', 'further', 'had', 'hadn', \"hadn't\", 'has', 'hasn', \"hasn't\", 'have', 'haven', \"haven't\", 'having', 'he', \"he'd\", \"he'll\", 'her', 'here', 'hers', 'herself', \"he's\", 'him', 'himself', 'his', 'how', 'i', \"i'd\", 'if', \"i'll\", \"i'm\", 'in', 'into', 'is', 'isn', \"isn't\", 'it', \"it'd\", \"it'll\", \"it's\", 'its', 'itself', \"i've\", 'just', 'll', 'm', 'ma', 'me', 'mightn', \"mightn't\", 'more', 'most', 'mustn', \"mustn't\", 'my', 'myself', 'needn', \"needn't\", 'no', 'nor', 'not', 'now', 'o', 'of', 'off', 'on', 'once', 'only', 'or', 'other', 'our', 'ours', 'ourselves', 'out', 'over', 'own', 're', 's', 'same', 'shan', \"shan't\", 'she', \"she'd\", \"she'll\", \"she's\", 'should', 'shouldn', \"shouldn't\", \"should've\", 'so', 'some', 'such', 't', 'than', 'that', \"that'll\", 'the', 'their', 'theirs', 'them', 'themselves', 'then', 'there', 'these', 'they', \"they'd\", \"they'll\", \"they're\", \"they've\", 'this', 'those', 'through', 'to', 'too', 'under', 'until', 'up', 've', 'very', 'was', 'wasn', \"wasn't\", 'we', \"we'd\", \"we'll\", \"we're\", 'were', 'weren', \"weren't\", \"we've\", 'what', 'when', 'where', 'which', 'while', 'who', 'whom', 'why', 'will', 'with', 'won', \"won't\", 'wouldn', \"wouldn't\", 'y', 'you', \"you'd\", \"you'll\", 'your', \"you're\", 'yours', 'yourself', 'yourselves', \"you've\"]\n"
     ]
    },
    {
     "name": "stderr",
     "output_type": "stream",
     "text": [
      "[nltk_data] Downloading package stopwords to\n",
      "[nltk_data]     C:\\Users\\HP\\AppData\\Roaming\\nltk_data...\n",
      "[nltk_data]   Package stopwords is already up-to-date!\n"
     ]
    }
   ],
   "source": [
    "from nltk.corpus import stopwords\n",
    "import nltk\n",
    "nltk.download('stopwords')\n",
    "stop_words = stopwords.words('english')\n",
    "print(stop_words)"
   ]
  },
  {
   "cell_type": "code",
   "execution_count": 29,
   "id": "5603f559",
   "metadata": {},
   "outputs": [],
   "source": [
    "#Stemming"
   ]
  },
  {
   "cell_type": "code",
   "execution_count": 22,
   "id": "ab117f42",
   "metadata": {},
   "outputs": [
    {
     "name": "stdout",
     "output_type": "stream",
     "text": [
      "Stemmed Tokens: ['wander', 'wide', ',', 'wind', 'forest', ',', 'listen', 'whisper', 'wind', 'watch', 'tall', 'tree', 'sway', 'gentli', 'sunlight', 'filter', 'thick', 'canopi', '.']\n"
     ]
    }
   ],
   "source": [
    "from nltk.stem import PorterStemmer\n",
    "\n",
    "stemmer = PorterStemmer()\n",
    "stemmed_tokens = [stemmer.stem(word) for word in filtered_tokens]\n",
    "print(\"Stemmed Tokens:\", stemmed_tokens)"
   ]
  },
  {
   "cell_type": "code",
   "execution_count": 31,
   "id": "6c5fd461",
   "metadata": {},
   "outputs": [],
   "source": [
    "#Lemmatization\n"
   ]
  },
  {
   "cell_type": "code",
   "execution_count": 23,
   "id": "132c434d",
   "metadata": {},
   "outputs": [
    {
     "name": "stdout",
     "output_type": "stream",
     "text": [
      "Lemmatized Tokens: ['wandered', 'wide', ',', 'winding', 'forest', ',', 'listening', 'whispering', 'wind', 'watching', 'tall', 'tree', 'sway', 'gently', 'sunlight', 'filtered', 'thick', 'canopy', '.']\n"
     ]
    }
   ],
   "source": [
    "from nltk.stem import WordNetLemmatizer \n",
    "\n",
    "lemmatizer = WordNetLemmatizer()\n",
    "lemmatized_tokens = [lemmatizer.lemmatize(word) for word in filtered_tokens]\n",
    "print(\"Lemmatized Tokens:\", lemmatized_tokens)"
   ]
  },
  {
   "cell_type": "code",
   "execution_count": 33,
   "id": "e3ba2cf4",
   "metadata": {},
   "outputs": [],
   "source": [
    "#2) Create representation of document by calculating Term Frequency and Inverse Document Frequency."
   ]
  },
  {
   "cell_type": "code",
   "execution_count": 13,
   "id": "8382d720",
   "metadata": {},
   "outputs": [],
   "source": [
    "preprocessed_text = ' '.join(lemmatized_tokens)"
   ]
  },
  {
   "cell_type": "code",
   "execution_count": 24,
   "id": "e5e78a30",
   "metadata": {},
   "outputs": [
    {
     "name": "stdout",
     "output_type": "stream",
     "text": [
      "Preprocessed Text: swiftly sailed across sea , savoring salty sea breeze seagull soared serene water\n",
      "\n",
      "TF-IDF Representation:\n",
      "[[0.26726124 0.26726124 0.26726124 0.26726124 0.26726124 0.53452248\n",
      "  0.26726124 0.26726124 0.26726124 0.26726124 0.26726124]]\n"
     ]
    }
   ],
   "source": [
    "from sklearn.feature_extraction.text import TfidfVectorizer\n",
    "\n",
    "tfidf_vectorizer = TfidfVectorizer()\n",
    "tfidf_representation = tfidf_vectorizer.fit_transform([preprocessed_text])\n",
    "\n",
    "print(\"Preprocessed Text:\", preprocessed_text)\n",
    "print(\"\\nTF-IDF Representation:\")\n",
    "print(tfidf_representation.toarray())"
   ]
  },
  {
   "cell_type": "code",
   "execution_count": null,
   "id": "700fcd8e",
   "metadata": {},
   "outputs": [],
   "source": []
  }
 ],
 "metadata": {
  "kernelspec": {
   "display_name": "Python 3 (ipykernel)",
   "language": "python",
   "name": "python3"
  },
  "language_info": {
   "codemirror_mode": {
    "name": "ipython",
    "version": 3
   },
   "file_extension": ".py",
   "mimetype": "text/x-python",
   "name": "python",
   "nbconvert_exporter": "python",
   "pygments_lexer": "ipython3",
   "version": "3.9.13"
  }
 },
 "nbformat": 4,
 "nbformat_minor": 5
}
